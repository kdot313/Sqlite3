{
  "nbformat": 4,
  "nbformat_minor": 0,
  "metadata": {
    "colab": {
      "provenance": []
    },
    "kernelspec": {
      "name": "python3",
      "display_name": "Python 3"
    },
    "language_info": {
      "name": "python"
    }
  },
  "cells": [
    {
      "cell_type": "code",
      "execution_count": 1,
      "metadata": {
        "id": "QjtqhPEvmxhf"
      },
      "outputs": [],
      "source": [
        "import sqlite3"
      ]
    },
    {
      "cell_type": "code",
      "source": [
        "db = sqlite3.connect(\"ineuron.db\")"
      ],
      "metadata": {
        "id": "2Qk6C_Vfm3hd"
      },
      "execution_count": 2,
      "outputs": []
    },
    {
      "cell_type": "code",
      "source": [
        "!ls"
      ],
      "metadata": {
        "colab": {
          "base_uri": "https://localhost:8080/"
        },
        "id": "IBZ5QVijm37t",
        "outputId": "5ab6dcb3-f070-492d-e7f5-797dba0c6979"
      },
      "execution_count": 3,
      "outputs": [
        {
          "output_type": "stream",
          "name": "stdout",
          "text": [
            "ineuron.db  sample_data\n"
          ]
        }
      ]
    },
    {
      "cell_type": "code",
      "source": [
        "c = db.cursor()"
      ],
      "metadata": {
        "id": "AhjPH_x6nrrB"
      },
      "execution_count": 4,
      "outputs": []
    },
    {
      "cell_type": "code",
      "source": [
        "c.execute('create table fsds(name text , batchid int , marks real)')"
      ],
      "metadata": {
        "colab": {
          "base_uri": "https://localhost:8080/"
        },
        "id": "dRni06rRoBZ5",
        "outputId": "fb29c28d-70fd-459d-e5d3-b92ee1bcec95"
      },
      "execution_count": 5,
      "outputs": [
        {
          "output_type": "execute_result",
          "data": {
            "text/plain": [
              "<sqlite3.Cursor at 0x796fbef166c0>"
            ]
          },
          "metadata": {},
          "execution_count": 5
        }
      ]
    },
    {
      "cell_type": "code",
      "source": [
        "c.execute(\"insert into fsds values('sudh' , 34535 , 454.67)\")"
      ],
      "metadata": {
        "colab": {
          "base_uri": "https://localhost:8080/"
        },
        "id": "jMohFECcoCQA",
        "outputId": "030e2e89-799d-44f8-e722-bc73c6efad92"
      },
      "execution_count": 6,
      "outputs": [
        {
          "output_type": "execute_result",
          "data": {
            "text/plain": [
              "<sqlite3.Cursor at 0x796fbef166c0>"
            ]
          },
          "metadata": {},
          "execution_count": 6
        }
      ]
    },
    {
      "cell_type": "code",
      "source": [
        "c.execute(\"insert into fsds values('sudh' , 34535 , 454.67)\")\n",
        "c.execute(\"insert into fsds values('sudh' , 34535 , 454.67)\")\n",
        "c.execute(\"insert into fsds values('sudh' , 34535 , 454.67)\")\n",
        "c.execute(\"insert into fsds values('sudh' , 34535 , 454.67)\")\n",
        "c.execute(\"insert into fsds values('sudh' , 34535 , 454.67)\")\n",
        "c.execute(\"insert into fsds values('sudh' , 34535 , 454.67)\")\n",
        "c.execute(\"insert into fsds values('sudh' , 34535 , 454.67)\")\n",
        "c.execute(\"insert into fsds values('sudh' , 34535 , 454.67)\")"
      ],
      "metadata": {
        "colab": {
          "base_uri": "https://localhost:8080/"
        },
        "id": "Gm2q3TZYoD7e",
        "outputId": "1f0c1760-42f4-49cd-ce35-75c9bd452d84"
      },
      "execution_count": 7,
      "outputs": [
        {
          "output_type": "execute_result",
          "data": {
            "text/plain": [
              "<sqlite3.Cursor at 0x796fbef166c0>"
            ]
          },
          "metadata": {},
          "execution_count": 7
        }
      ]
    },
    {
      "cell_type": "code",
      "source": [
        "data = c.execute(\"select * from fsds\")"
      ],
      "metadata": {
        "id": "QnUi52nVoFBb"
      },
      "execution_count": 8,
      "outputs": []
    },
    {
      "cell_type": "code",
      "source": [
        "for i in data:\n",
        "    print(i)"
      ],
      "metadata": {
        "colab": {
          "base_uri": "https://localhost:8080/"
        },
        "id": "-9YNSQ4mpGVj",
        "outputId": "71895e2e-d980-455d-c9d2-9be90db561f3"
      },
      "execution_count": 9,
      "outputs": [
        {
          "output_type": "stream",
          "name": "stdout",
          "text": [
            "('sudh', 34535, 454.67)\n",
            "('sudh', 34535, 454.67)\n",
            "('sudh', 34535, 454.67)\n",
            "('sudh', 34535, 454.67)\n",
            "('sudh', 34535, 454.67)\n",
            "('sudh', 34535, 454.67)\n",
            "('sudh', 34535, 454.67)\n",
            "('sudh', 34535, 454.67)\n",
            "('sudh', 34535, 454.67)\n"
          ]
        }
      ]
    },
    {
      "cell_type": "code",
      "source": [
        "db.commit()"
      ],
      "metadata": {
        "id": "lYnsN_RopHX2"
      },
      "execution_count": 10,
      "outputs": []
    },
    {
      "cell_type": "code",
      "source": [
        "db.close()"
      ],
      "metadata": {
        "id": "Ewojy1MjpITF"
      },
      "execution_count": 11,
      "outputs": []
    },
    {
      "cell_type": "code",
      "source": [
        "!ls"
      ],
      "metadata": {
        "colab": {
          "base_uri": "https://localhost:8080/"
        },
        "id": "rBhA7jZNp2Nk",
        "outputId": "b85df30d-9179-443d-b221-3f24e4a68eab"
      },
      "execution_count": 12,
      "outputs": [
        {
          "output_type": "stream",
          "name": "stdout",
          "text": [
            "ineuron.db  sample_data\n"
          ]
        }
      ]
    },
    {
      "cell_type": "code",
      "source": [
        "db = sqlite3.connect(\"ineuron.db\")"
      ],
      "metadata": {
        "id": "K3J4-PSup3XP"
      },
      "execution_count": 13,
      "outputs": []
    },
    {
      "cell_type": "code",
      "source": [
        "c = db.cursor()"
      ],
      "metadata": {
        "id": "CGEbqOqUp9Tg"
      },
      "execution_count": 14,
      "outputs": []
    },
    {
      "cell_type": "code",
      "source": [
        "data = c.execute(\"select * from fsds where marks > 400\")"
      ],
      "metadata": {
        "id": "REt7Fylap-Wp"
      },
      "execution_count": 15,
      "outputs": []
    },
    {
      "cell_type": "code",
      "source": [
        "for i in data :\n",
        "    print(i)"
      ],
      "metadata": {
        "colab": {
          "base_uri": "https://localhost:8080/"
        },
        "id": "X3VtDcaYp_wY",
        "outputId": "50d8aca9-d864-4c84-9044-75ed93bc39ce"
      },
      "execution_count": 16,
      "outputs": [
        {
          "output_type": "stream",
          "name": "stdout",
          "text": [
            "('sudh', 34535, 454.67)\n",
            "('sudh', 34535, 454.67)\n",
            "('sudh', 34535, 454.67)\n",
            "('sudh', 34535, 454.67)\n",
            "('sudh', 34535, 454.67)\n",
            "('sudh', 34535, 454.67)\n",
            "('sudh', 34535, 454.67)\n",
            "('sudh', 34535, 454.67)\n",
            "('sudh', 34535, 454.67)\n"
          ]
        }
      ]
    },
    {
      "cell_type": "code",
      "source": [
        "data = c.execute(\"select * from fsds where name = 'sudh' \")"
      ],
      "metadata": {
        "id": "phKf5-7XqBCq"
      },
      "execution_count": 17,
      "outputs": []
    },
    {
      "cell_type": "code",
      "source": [
        "for i in data :\n",
        "    print(i)"
      ],
      "metadata": {
        "colab": {
          "base_uri": "https://localhost:8080/"
        },
        "id": "qGr3pKueqCbZ",
        "outputId": "f80e753b-f111-48c2-e304-2d7897248887"
      },
      "execution_count": 18,
      "outputs": [
        {
          "output_type": "stream",
          "name": "stdout",
          "text": [
            "('sudh', 34535, 454.67)\n",
            "('sudh', 34535, 454.67)\n",
            "('sudh', 34535, 454.67)\n",
            "('sudh', 34535, 454.67)\n",
            "('sudh', 34535, 454.67)\n",
            "('sudh', 34535, 454.67)\n",
            "('sudh', 34535, 454.67)\n",
            "('sudh', 34535, 454.67)\n",
            "('sudh', 34535, 454.67)\n"
          ]
        }
      ]
    },
    {
      "cell_type": "code",
      "source": [
        "data = c.execute(\"select name , marks from fsds\")"
      ],
      "metadata": {
        "id": "zhDFbGbxqDhU"
      },
      "execution_count": 19,
      "outputs": []
    },
    {
      "cell_type": "code",
      "source": [
        "for i in data :\n",
        "    print(i)"
      ],
      "metadata": {
        "colab": {
          "base_uri": "https://localhost:8080/"
        },
        "id": "A-gk4xAbqbsr",
        "outputId": "17670703-cfc9-4cb9-f71f-825002080b81"
      },
      "execution_count": 20,
      "outputs": [
        {
          "output_type": "stream",
          "name": "stdout",
          "text": [
            "('sudh', 454.67)\n",
            "('sudh', 454.67)\n",
            "('sudh', 454.67)\n",
            "('sudh', 454.67)\n",
            "('sudh', 454.67)\n",
            "('sudh', 454.67)\n",
            "('sudh', 454.67)\n",
            "('sudh', 454.67)\n",
            "('sudh', 454.67)\n"
          ]
        }
      ]
    },
    {
      "cell_type": "code",
      "source": [
        "data = c.execute(\"select name ,marks from fsds order  by marks \")"
      ],
      "metadata": {
        "id": "GKMz77aIqdLt"
      },
      "execution_count": 21,
      "outputs": []
    },
    {
      "cell_type": "code",
      "source": [
        "for i in data :\n",
        "    print(i)"
      ],
      "metadata": {
        "colab": {
          "base_uri": "https://localhost:8080/"
        },
        "id": "AOXW-bwHqgC3",
        "outputId": "bcc50a20-1697-439c-f187-88d111b2f909"
      },
      "execution_count": 22,
      "outputs": [
        {
          "output_type": "stream",
          "name": "stdout",
          "text": [
            "('sudh', 454.67)\n",
            "('sudh', 454.67)\n",
            "('sudh', 454.67)\n",
            "('sudh', 454.67)\n",
            "('sudh', 454.67)\n",
            "('sudh', 454.67)\n",
            "('sudh', 454.67)\n",
            "('sudh', 454.67)\n",
            "('sudh', 454.67)\n"
          ]
        }
      ]
    },
    {
      "cell_type": "code",
      "source": [
        "db.close()"
      ],
      "metadata": {
        "id": "kn_PdK8_qhZJ"
      },
      "execution_count": 23,
      "outputs": []
    },
    {
      "cell_type": "code",
      "source": [
        "db = sqlite3.connect(\"person.db\")"
      ],
      "metadata": {
        "id": "nIarfVcQqjvc"
      },
      "execution_count": 24,
      "outputs": []
    },
    {
      "cell_type": "code",
      "source": [
        "c = db.cursor()"
      ],
      "metadata": {
        "id": "8gVatN7HqlYy"
      },
      "execution_count": 25,
      "outputs": []
    },
    {
      "cell_type": "code",
      "source": [
        "c.execute(\"create table person_table(name text , emailid text , age int , salary real)\")"
      ],
      "metadata": {
        "colab": {
          "base_uri": "https://localhost:8080/"
        },
        "id": "7UwUKpuUqoCr",
        "outputId": "4c8ab6b1-61c3-4b0f-fa60-ee9b52072188"
      },
      "execution_count": 26,
      "outputs": [
        {
          "output_type": "execute_result",
          "data": {
            "text/plain": [
              "<sqlite3.Cursor at 0x796fbef174c0>"
            ]
          },
          "metadata": {},
          "execution_count": 26
        }
      ]
    },
    {
      "cell_type": "code",
      "source": [
        "c.execute(\"insert into person_table values('sudh' , 'sudhanshu@ineuron.ai' , 234 , 23424)\")\n",
        "c.execute(\"insert into person_table values('prashant' ,'prashant@ineuron.ai' , 345 , 23543543)\")\n",
        "c.execute(\"insert into person_table values('krish' , 'krish@ineuron.ai' , 2345 ,34534564)\")\n",
        "c.execute(\"insert into person_table values('sunnny' ,'sunny@ineuron.ai' , 2354,7789797)\")"
      ],
      "metadata": {
        "colab": {
          "base_uri": "https://localhost:8080/"
        },
        "id": "_rGFSCBCqser",
        "outputId": "cdd537d9-8160-4ed8-aeb0-2f23aa986b9e"
      },
      "execution_count": 27,
      "outputs": [
        {
          "output_type": "execute_result",
          "data": {
            "text/plain": [
              "<sqlite3.Cursor at 0x796fbef174c0>"
            ]
          },
          "metadata": {},
          "execution_count": 27
        }
      ]
    },
    {
      "cell_type": "code",
      "source": [
        "data = c.execute(\"select * from person_table\")"
      ],
      "metadata": {
        "id": "I2jVRrWCquw8"
      },
      "execution_count": 28,
      "outputs": []
    },
    {
      "cell_type": "code",
      "source": [
        "for i in data:\n",
        "    print(i)"
      ],
      "metadata": {
        "colab": {
          "base_uri": "https://localhost:8080/"
        },
        "id": "IzxQnDMIrumR",
        "outputId": "4fbf17b1-8859-496d-a323-3a2fb2e459b2"
      },
      "execution_count": 29,
      "outputs": [
        {
          "output_type": "stream",
          "name": "stdout",
          "text": [
            "('sudh', 'sudhanshu@ineuron.ai', 234, 23424.0)\n",
            "('prashant', 'prashant@ineuron.ai', 345, 23543543.0)\n",
            "('krish', 'krish@ineuron.ai', 2345, 34534564.0)\n",
            "('sunnny', 'sunny@ineuron.ai', 2354, 7789797.0)\n"
          ]
        }
      ]
    },
    {
      "cell_type": "code",
      "source": [
        "db.commit()"
      ],
      "metadata": {
        "id": "SwzszZfdrvem"
      },
      "execution_count": 30,
      "outputs": []
    },
    {
      "cell_type": "code",
      "source": [
        "db.close()"
      ],
      "metadata": {
        "id": "A_PDmEWhrxoB"
      },
      "execution_count": 31,
      "outputs": []
    },
    {
      "cell_type": "code",
      "source": [
        "!ls"
      ],
      "metadata": {
        "colab": {
          "base_uri": "https://localhost:8080/"
        },
        "id": "6ZGylTWCrzfT",
        "outputId": "8513d29f-106c-45d5-baa6-b2f247446cb9"
      },
      "execution_count": 32,
      "outputs": [
        {
          "output_type": "stream",
          "name": "stdout",
          "text": [
            "ineuron.db  person.db  sample_data\n"
          ]
        }
      ]
    },
    {
      "cell_type": "code",
      "source": [
        "db = sqlite3.connect('ineuron.db')"
      ],
      "metadata": {
        "id": "jTx55tw4r01N"
      },
      "execution_count": 33,
      "outputs": []
    },
    {
      "cell_type": "code",
      "source": [
        "c = db.cursor()"
      ],
      "metadata": {
        "id": "wpgHoid-ss7F"
      },
      "execution_count": 34,
      "outputs": []
    },
    {
      "cell_type": "code",
      "source": [
        "c.execute('drop table fsds')"
      ],
      "metadata": {
        "colab": {
          "base_uri": "https://localhost:8080/"
        },
        "id": "haAPyRc4suPX",
        "outputId": "833f5a63-0880-4b76-f7e7-7e1ad93974b9"
      },
      "execution_count": 35,
      "outputs": [
        {
          "output_type": "execute_result",
          "data": {
            "text/plain": [
              "<sqlite3.Cursor at 0x796fbef17340>"
            ]
          },
          "metadata": {},
          "execution_count": 35
        }
      ]
    },
    {
      "cell_type": "code",
      "source": [
        "c.execute('select * from fsds')"
      ],
      "metadata": {
        "colab": {
          "base_uri": "https://localhost:8080/",
          "height": 141
        },
        "id": "D7ykDqhIswBE",
        "outputId": "41a93327-8b70-4c78-c3aa-b7b1fb518949"
      },
      "execution_count": 42,
      "outputs": [
        {
          "output_type": "error",
          "ename": "OperationalError",
          "evalue": "no such table: fsds",
          "traceback": [
            "\u001b[0;31m---------------------------------------------------------------------------\u001b[0m",
            "\u001b[0;31mOperationalError\u001b[0m                          Traceback (most recent call last)",
            "\u001b[0;32m<ipython-input-42-b75bf689a57c>\u001b[0m in \u001b[0;36m<cell line: 0>\u001b[0;34m()\u001b[0m\n\u001b[0;32m----> 1\u001b[0;31m \u001b[0mc\u001b[0m\u001b[0;34m.\u001b[0m\u001b[0mexecute\u001b[0m\u001b[0;34m(\u001b[0m\u001b[0;34m'select * from fsds'\u001b[0m\u001b[0;34m)\u001b[0m\u001b[0;34m\u001b[0m\u001b[0;34m\u001b[0m\u001b[0m\n\u001b[0m",
            "\u001b[0;31mOperationalError\u001b[0m: no such table: fsds"
          ]
        }
      ]
    },
    {
      "cell_type": "code",
      "source": [
        "!ls"
      ],
      "metadata": {
        "colab": {
          "base_uri": "https://localhost:8080/"
        },
        "id": "3G_NehOIsxSJ",
        "outputId": "d7d6e9f1-71d0-43f4-88de-ebe4a0a1691a"
      },
      "execution_count": 43,
      "outputs": [
        {
          "output_type": "stream",
          "name": "stdout",
          "text": [
            "ineuron.db  jobdb.db  person.db  sample_data\n"
          ]
        }
      ]
    },
    {
      "cell_type": "code",
      "source": [
        "db.close()"
      ],
      "metadata": {
        "id": "6i99ibPEszEY"
      },
      "execution_count": 44,
      "outputs": []
    },
    {
      "cell_type": "code",
      "source": [
        "db = sqlite3.connect('person.db')"
      ],
      "metadata": {
        "id": "oaQ3BYkBs49M"
      },
      "execution_count": 45,
      "outputs": []
    },
    {
      "cell_type": "code",
      "source": [
        "c = db.cursor()"
      ],
      "metadata": {
        "id": "cvUw-Daos6Cp"
      },
      "execution_count": 46,
      "outputs": []
    },
    {
      "cell_type": "code",
      "source": [
        "data  = c.execute('SELECT * from person_table limit 2 ')"
      ],
      "metadata": {
        "id": "OE3CGo5as7lK"
      },
      "execution_count": 47,
      "outputs": []
    },
    {
      "cell_type": "code",
      "source": [
        "for i in data:\n",
        "    print(i)"
      ],
      "metadata": {
        "colab": {
          "base_uri": "https://localhost:8080/"
        },
        "id": "b1IcxWB0s8oa",
        "outputId": "968978b4-f595-4f62-a70a-9223d795e217"
      },
      "execution_count": 48,
      "outputs": [
        {
          "output_type": "stream",
          "name": "stdout",
          "text": [
            "('sudh', 'sudhanshu@ineuron.ai', 234, 23424.0)\n",
            "('prashant', 'prashant@ineuron.ai', 345, 23543543.0)\n"
          ]
        }
      ]
    },
    {
      "cell_type": "code",
      "source": [
        "db.close()"
      ],
      "metadata": {
        "id": "8buhQnUks98I"
      },
      "execution_count": 49,
      "outputs": []
    },
    {
      "cell_type": "code",
      "source": [
        "db = sqlite3.connect('jobdb.db')"
      ],
      "metadata": {
        "id": "do5KXqH2s-22"
      },
      "execution_count": 50,
      "outputs": []
    },
    {
      "cell_type": "code",
      "source": [
        "c = db.cursor()"
      ],
      "metadata": {
        "id": "e0B4HNEatuqa"
      },
      "execution_count": 51,
      "outputs": []
    },
    {
      "cell_type": "code",
      "source": [
        "c.execute('create table student(student_id int , student_name text , student_mailid text , marks int)')"
      ],
      "metadata": {
        "colab": {
          "base_uri": "https://localhost:8080/"
        },
        "id": "5mQ-mrKpzWtc",
        "outputId": "991f13da-3b16-4055-f80e-3216d85dcc51"
      },
      "execution_count": 59,
      "outputs": [
        {
          "output_type": "execute_result",
          "data": {
            "text/plain": [
              "<sqlite3.Cursor at 0x796fbeec0cc0>"
            ]
          },
          "metadata": {},
          "execution_count": 59
        }
      ]
    },
    {
      "cell_type": "code",
      "source": [
        "c.execute('create table address(student_id int ,pincode int  , location text , nearby text , phone_no int)')"
      ],
      "metadata": {
        "colab": {
          "base_uri": "https://localhost:8080/"
        },
        "id": "CCdgmXq_zYDX",
        "outputId": "a40ad103-bcca-4760-f1ef-c1ca992ef7e1"
      },
      "execution_count": 60,
      "outputs": [
        {
          "output_type": "execute_result",
          "data": {
            "text/plain": [
              "<sqlite3.Cursor at 0x796fbeec0cc0>"
            ]
          },
          "metadata": {},
          "execution_count": 60
        }
      ]
    },
    {
      "cell_type": "code",
      "source": [
        "c.execute(\"insert into student values(234,'sudhashu' , 'sudhanshu@ineuron.ai' , 234)\")\n",
        "c.execute(\"insert into student values(235,'sudhashu' , 'sudhanshu@ineuron.ai' , 234)\")\n",
        "c.execute(\"insert into student values(236,'sudhashu' , 'sudhanshu@ineuron.ai' , 234)\")\n",
        "c.execute(\"insert into student values(237,'sudhashu' , 'sudhanshu@ineuron.ai' , 234)\")\n",
        "c.execute(\"insert into student values(238,'sudhashu' , 'sudhanshu@ineuron.ai' , 234)\")\n",
        "c.execute(\"insert into student values(239,'sudhashu' , 'sudhanshu@ineuron.ai' , 234)\")\n",
        "c.execute(\"insert into student values(2310,'sudhashu' , 'sudhanshu@ineuron.ai' , 234)\")\n",
        "c.execute(\"insert into student values(2311,'sudhashu' , 'sudhanshu@ineuron.ai' , 234)\")\n",
        "c.execute(\"insert into student values(2343,'sudhashu' , 'sudhanshu@ineuron.ai' , 234)\")\n",
        "c.execute(\"insert into student values(233543,'sudhashu' , 'sudhanshu@ineuron.ai' , 234)\")\n",
        "c.execute(\"insert into student values(23345,'sudhashu' , 'sudhanshu@ineuron.ai' , 234)\")\n",
        "c.execute(\"insert into student values(233543,'sudhashu' , 'sudhanshu@ineuron.ai' , 234)\")"
      ],
      "metadata": {
        "colab": {
          "base_uri": "https://localhost:8080/"
        },
        "id": "VqnN0lJlzZo2",
        "outputId": "d135eeaa-3de4-4c60-860b-bb6071f92d5b"
      },
      "execution_count": 61,
      "outputs": [
        {
          "output_type": "execute_result",
          "data": {
            "text/plain": [
              "<sqlite3.Cursor at 0x796fbeec0cc0>"
            ]
          },
          "metadata": {},
          "execution_count": 61
        }
      ]
    },
    {
      "cell_type": "code",
      "source": [
        "c.execute(\"insert into address values(235 , 560034 , 'whitefelid' ,'ineuron office ' , 2423543454353 )\")"
      ],
      "metadata": {
        "colab": {
          "base_uri": "https://localhost:8080/"
        },
        "id": "NNydE_b0za3G",
        "outputId": "7316331b-e4b8-4483-cce2-2273c2533a6e"
      },
      "execution_count": 62,
      "outputs": [
        {
          "output_type": "execute_result",
          "data": {
            "text/plain": [
              "<sqlite3.Cursor at 0x796fbeec0cc0>"
            ]
          },
          "metadata": {},
          "execution_count": 62
        }
      ]
    },
    {
      "cell_type": "code",
      "source": [
        "c.execute(\"insert into address values(236 , 560034 , 'whitefelid' ,'ineuron office ' , 2423543454353 )\")\n",
        "c.execute(\"insert into address values(237 , 560034 , 'whitefelid' ,'ineuron office ' , 2423543454353 )\")\n",
        "c.execute(\"insert into address values(238 , 560034 , 'whitefelid' ,'ineuron office ' , 2423543454353 )\")\n",
        "c.execute(\"insert into address values(239 , 560034 , 'whitefelid' ,'ineuron office ' , 2423543454353 )\")\n",
        "c.execute(\"insert into address values(210 , 560034 , 'whitefelid' ,'ineuron office ' , 2423543454353 )\")\n",
        "c.execute(\"insert into address values(23345 , 560034 , 'whitefelid' ,'ineuron office ' , 2423543454353 )\")\n",
        "c.execute(\"insert into address values(23345 , 560034 , 'whitefelid' ,'ineuron office ' , 2423543454353 )\")\n",
        "c.execute(\"insert into address values(23654 , 560034 , 'whitefelid' ,'ineuron office ' , 2423543454353 )\")\n",
        "c.execute(\"insert into address values(235345 , 560034 , 'whitefelid' ,'ineuron office ' , 2423543454353 )\")\n",
        "c.execute(\"insert into address values(23665 , 560034 , 'whitefelid' ,'ineuron office ' , 2423543454353 )\")\n",
        "c.execute(\"insert into address values(23623 , 560034 , 'whitefelid' ,'ineuron office ' , 2423543454353 )\")\n",
        "c.execute(\"insert into address values(23689 , 560034 , 'whitefelid' ,'ineuron office ' , 2423543454353 )\")\n",
        "c.execute(\"insert into address values(23609 , 560034 , 'whitefelid' ,'ineuron office ' , 2423543454353 )\")\n",
        "c.execute(\"insert into address values(23632 , 560034 , 'whitefelid' ,'ineuron office ' , 2423543454353 )\")\n",
        "c.execute(\"insert into address values(23689 , 560034 , 'whitefelid' ,'ineuron office ' , 2423543454353 )\")\n",
        "c.execute(\"insert into address values(23623 , 560034 , 'whitefelid' ,'ineuron office ' , 2423543454353 )\")\n",
        "c.execute(\"insert into address values(23698 , 560034 , 'whitefelid' ,'ineuron office ' , 2423543454353 )\")\n",
        "c.execute(\"insert into address values(23623 , 560034 , 'whitefelid' ,'ineuron office ' , 2423543454353 )\")\n",
        "c.execute(\"insert into address values(23689 , 560034 , 'whitefelid' ,'ineuron office ' , 2423543454353 )\")\n",
        "c.execute(\"insert into address values(23623 , 560034 , 'whitefelid' ,'ineuron office ' , 2423543454353 )\")\n",
        "c.execute(\"insert into address values(23690 , 560034 , 'whitefelid' ,'ineuron office ' , 2423543454353 )\")\n"
      ],
      "metadata": {
        "colab": {
          "base_uri": "https://localhost:8080/"
        },
        "id": "iUDH5VyPzcPw",
        "outputId": "166a3780-425a-4240-fae3-55a52ec9c45b"
      },
      "execution_count": 63,
      "outputs": [
        {
          "output_type": "execute_result",
          "data": {
            "text/plain": [
              "<sqlite3.Cursor at 0x796fbeec0cc0>"
            ]
          },
          "metadata": {},
          "execution_count": 63
        }
      ]
    },
    {
      "cell_type": "code",
      "source": [
        "for i in c.execute(\"select * from address\"):\n",
        "    print(i)"
      ],
      "metadata": {
        "colab": {
          "base_uri": "https://localhost:8080/"
        },
        "id": "IFtZ8zYCzdcq",
        "outputId": "e633e728-944f-4420-a0b3-e66458cbb7e4"
      },
      "execution_count": 64,
      "outputs": [
        {
          "output_type": "stream",
          "name": "stdout",
          "text": [
            "(235, 560034, 'whitefelid', 'ineuron office ', 2423543454353)\n",
            "(236, 560034, 'whitefelid', 'ineuron office ', 2423543454353)\n",
            "(237, 560034, 'whitefelid', 'ineuron office ', 2423543454353)\n",
            "(238, 560034, 'whitefelid', 'ineuron office ', 2423543454353)\n",
            "(239, 560034, 'whitefelid', 'ineuron office ', 2423543454353)\n",
            "(210, 560034, 'whitefelid', 'ineuron office ', 2423543454353)\n",
            "(23345, 560034, 'whitefelid', 'ineuron office ', 2423543454353)\n",
            "(23345, 560034, 'whitefelid', 'ineuron office ', 2423543454353)\n",
            "(23654, 560034, 'whitefelid', 'ineuron office ', 2423543454353)\n",
            "(235345, 560034, 'whitefelid', 'ineuron office ', 2423543454353)\n",
            "(23665, 560034, 'whitefelid', 'ineuron office ', 2423543454353)\n",
            "(23623, 560034, 'whitefelid', 'ineuron office ', 2423543454353)\n",
            "(23689, 560034, 'whitefelid', 'ineuron office ', 2423543454353)\n",
            "(23609, 560034, 'whitefelid', 'ineuron office ', 2423543454353)\n",
            "(23632, 560034, 'whitefelid', 'ineuron office ', 2423543454353)\n",
            "(23689, 560034, 'whitefelid', 'ineuron office ', 2423543454353)\n",
            "(23623, 560034, 'whitefelid', 'ineuron office ', 2423543454353)\n",
            "(23698, 560034, 'whitefelid', 'ineuron office ', 2423543454353)\n",
            "(23623, 560034, 'whitefelid', 'ineuron office ', 2423543454353)\n",
            "(23689, 560034, 'whitefelid', 'ineuron office ', 2423543454353)\n",
            "(23623, 560034, 'whitefelid', 'ineuron office ', 2423543454353)\n",
            "(23690, 560034, 'whitefelid', 'ineuron office ', 2423543454353)\n"
          ]
        }
      ]
    },
    {
      "cell_type": "code",
      "source": [
        "for i in c.execute(\"select * from student\"):\n",
        "    print(i)"
      ],
      "metadata": {
        "colab": {
          "base_uri": "https://localhost:8080/"
        },
        "id": "V920_pjtzg1B",
        "outputId": "0e87a63e-3dfe-4beb-8fef-1567cb29999d"
      },
      "execution_count": 65,
      "outputs": [
        {
          "output_type": "stream",
          "name": "stdout",
          "text": [
            "(234, 'sudhashu', 'sudhanshu@ineuron.ai', 234)\n",
            "(235, 'sudhashu', 'sudhanshu@ineuron.ai', 234)\n",
            "(236, 'sudhashu', 'sudhanshu@ineuron.ai', 234)\n",
            "(237, 'sudhashu', 'sudhanshu@ineuron.ai', 234)\n",
            "(238, 'sudhashu', 'sudhanshu@ineuron.ai', 234)\n",
            "(239, 'sudhashu', 'sudhanshu@ineuron.ai', 234)\n",
            "(2310, 'sudhashu', 'sudhanshu@ineuron.ai', 234)\n",
            "(2311, 'sudhashu', 'sudhanshu@ineuron.ai', 234)\n",
            "(2343, 'sudhashu', 'sudhanshu@ineuron.ai', 234)\n",
            "(233543, 'sudhashu', 'sudhanshu@ineuron.ai', 234)\n",
            "(23345, 'sudhashu', 'sudhanshu@ineuron.ai', 234)\n",
            "(233543, 'sudhashu', 'sudhanshu@ineuron.ai', 234)\n"
          ]
        }
      ]
    },
    {
      "cell_type": "code",
      "source": [
        "data = c.execute(\"select * from student s left join address a on s.student_id=a.student_id where a.student_id is not null\")\n"
      ],
      "metadata": {
        "id": "qNRumtTzzqOB"
      },
      "execution_count": 66,
      "outputs": []
    },
    {
      "cell_type": "code",
      "source": [
        "for i in data :\n",
        "    print(i)"
      ],
      "metadata": {
        "colab": {
          "base_uri": "https://localhost:8080/"
        },
        "id": "xxspA82szspm",
        "outputId": "59e60304-bdf6-47d4-c48e-e5985c97b40b"
      },
      "execution_count": 67,
      "outputs": [
        {
          "output_type": "stream",
          "name": "stdout",
          "text": [
            "(235, 'sudhashu', 'sudhanshu@ineuron.ai', 234, 235, 560034, 'whitefelid', 'ineuron office ', 2423543454353)\n",
            "(236, 'sudhashu', 'sudhanshu@ineuron.ai', 234, 236, 560034, 'whitefelid', 'ineuron office ', 2423543454353)\n",
            "(237, 'sudhashu', 'sudhanshu@ineuron.ai', 234, 237, 560034, 'whitefelid', 'ineuron office ', 2423543454353)\n",
            "(238, 'sudhashu', 'sudhanshu@ineuron.ai', 234, 238, 560034, 'whitefelid', 'ineuron office ', 2423543454353)\n",
            "(239, 'sudhashu', 'sudhanshu@ineuron.ai', 234, 239, 560034, 'whitefelid', 'ineuron office ', 2423543454353)\n",
            "(23345, 'sudhashu', 'sudhanshu@ineuron.ai', 234, 23345, 560034, 'whitefelid', 'ineuron office ', 2423543454353)\n",
            "(23345, 'sudhashu', 'sudhanshu@ineuron.ai', 234, 23345, 560034, 'whitefelid', 'ineuron office ', 2423543454353)\n"
          ]
        }
      ]
    },
    {
      "cell_type": "code",
      "source": [
        "data = c.execute(\"select * from address s left join student a on s.student_id=a.student_id \")"
      ],
      "metadata": {
        "id": "Q8fBEanxzuas"
      },
      "execution_count": 68,
      "outputs": []
    },
    {
      "cell_type": "code",
      "source": [
        "for i in data :\n",
        "    print(i)"
      ],
      "metadata": {
        "colab": {
          "base_uri": "https://localhost:8080/"
        },
        "id": "eDc_aZsg3aX4",
        "outputId": "748e943e-5eaa-4cac-8b89-c64e84358762"
      },
      "execution_count": 69,
      "outputs": [
        {
          "output_type": "stream",
          "name": "stdout",
          "text": [
            "(235, 560034, 'whitefelid', 'ineuron office ', 2423543454353, 235, 'sudhashu', 'sudhanshu@ineuron.ai', 234)\n",
            "(236, 560034, 'whitefelid', 'ineuron office ', 2423543454353, 236, 'sudhashu', 'sudhanshu@ineuron.ai', 234)\n",
            "(237, 560034, 'whitefelid', 'ineuron office ', 2423543454353, 237, 'sudhashu', 'sudhanshu@ineuron.ai', 234)\n",
            "(238, 560034, 'whitefelid', 'ineuron office ', 2423543454353, 238, 'sudhashu', 'sudhanshu@ineuron.ai', 234)\n",
            "(239, 560034, 'whitefelid', 'ineuron office ', 2423543454353, 239, 'sudhashu', 'sudhanshu@ineuron.ai', 234)\n",
            "(210, 560034, 'whitefelid', 'ineuron office ', 2423543454353, None, None, None, None)\n",
            "(23345, 560034, 'whitefelid', 'ineuron office ', 2423543454353, 23345, 'sudhashu', 'sudhanshu@ineuron.ai', 234)\n",
            "(23345, 560034, 'whitefelid', 'ineuron office ', 2423543454353, 23345, 'sudhashu', 'sudhanshu@ineuron.ai', 234)\n",
            "(23654, 560034, 'whitefelid', 'ineuron office ', 2423543454353, None, None, None, None)\n",
            "(235345, 560034, 'whitefelid', 'ineuron office ', 2423543454353, None, None, None, None)\n",
            "(23665, 560034, 'whitefelid', 'ineuron office ', 2423543454353, None, None, None, None)\n",
            "(23623, 560034, 'whitefelid', 'ineuron office ', 2423543454353, None, None, None, None)\n",
            "(23689, 560034, 'whitefelid', 'ineuron office ', 2423543454353, None, None, None, None)\n",
            "(23609, 560034, 'whitefelid', 'ineuron office ', 2423543454353, None, None, None, None)\n",
            "(23632, 560034, 'whitefelid', 'ineuron office ', 2423543454353, None, None, None, None)\n",
            "(23689, 560034, 'whitefelid', 'ineuron office ', 2423543454353, None, None, None, None)\n",
            "(23623, 560034, 'whitefelid', 'ineuron office ', 2423543454353, None, None, None, None)\n",
            "(23698, 560034, 'whitefelid', 'ineuron office ', 2423543454353, None, None, None, None)\n",
            "(23623, 560034, 'whitefelid', 'ineuron office ', 2423543454353, None, None, None, None)\n",
            "(23689, 560034, 'whitefelid', 'ineuron office ', 2423543454353, None, None, None, None)\n",
            "(23623, 560034, 'whitefelid', 'ineuron office ', 2423543454353, None, None, None, None)\n",
            "(23690, 560034, 'whitefelid', 'ineuron office ', 2423543454353, None, None, None, None)\n"
          ]
        }
      ]
    },
    {
      "cell_type": "code",
      "source": [
        "data = c.execute(\"select * from address s right join student a on s.student_id=a.student_id \")"
      ],
      "metadata": {
        "colab": {
          "base_uri": "https://localhost:8080/",
          "height": 141
        },
        "id": "pBFiAmth56Re",
        "outputId": "18f8199f-f8ad-4479-8617-32bd301a20a6"
      },
      "execution_count": 70,
      "outputs": [
        {
          "output_type": "error",
          "ename": "OperationalError",
          "evalue": "RIGHT and FULL OUTER JOINs are not currently supported",
          "traceback": [
            "\u001b[0;31m---------------------------------------------------------------------------\u001b[0m",
            "\u001b[0;31mOperationalError\u001b[0m                          Traceback (most recent call last)",
            "\u001b[0;32m<ipython-input-70-d4814f56b88b>\u001b[0m in \u001b[0;36m<cell line: 0>\u001b[0;34m()\u001b[0m\n\u001b[0;32m----> 1\u001b[0;31m \u001b[0mdata\u001b[0m \u001b[0;34m=\u001b[0m \u001b[0mc\u001b[0m\u001b[0;34m.\u001b[0m\u001b[0mexecute\u001b[0m\u001b[0;34m(\u001b[0m\u001b[0;34m\"select * from address s right join student a on s.student_id=a.student_id \"\u001b[0m\u001b[0;34m)\u001b[0m\u001b[0;34m\u001b[0m\u001b[0;34m\u001b[0m\u001b[0m\n\u001b[0m",
            "\u001b[0;31mOperationalError\u001b[0m: RIGHT and FULL OUTER JOINs are not currently supported"
          ]
        }
      ]
    },
    {
      "cell_type": "code",
      "source": [
        "for i in c.execute(\"select * from student\"):\n",
        "    print(i)"
      ],
      "metadata": {
        "colab": {
          "base_uri": "https://localhost:8080/"
        },
        "id": "LdGKWw1K3b0i",
        "outputId": "cd59d33a-902f-499e-e764-9745a12683f8"
      },
      "execution_count": 71,
      "outputs": [
        {
          "output_type": "stream",
          "name": "stdout",
          "text": [
            "(234, 'sudhashu', 'sudhanshu@ineuron.ai', 234)\n",
            "(235, 'sudhashu', 'sudhanshu@ineuron.ai', 234)\n",
            "(236, 'sudhashu', 'sudhanshu@ineuron.ai', 234)\n",
            "(237, 'sudhashu', 'sudhanshu@ineuron.ai', 234)\n",
            "(238, 'sudhashu', 'sudhanshu@ineuron.ai', 234)\n",
            "(239, 'sudhashu', 'sudhanshu@ineuron.ai', 234)\n",
            "(2310, 'sudhashu', 'sudhanshu@ineuron.ai', 234)\n",
            "(2311, 'sudhashu', 'sudhanshu@ineuron.ai', 234)\n",
            "(2343, 'sudhashu', 'sudhanshu@ineuron.ai', 234)\n",
            "(233543, 'sudhashu', 'sudhanshu@ineuron.ai', 234)\n",
            "(23345, 'sudhashu', 'sudhanshu@ineuron.ai', 234)\n",
            "(233543, 'sudhashu', 'sudhanshu@ineuron.ai', 234)\n"
          ]
        }
      ]
    },
    {
      "cell_type": "code",
      "source": [
        "c.execute('delete from student where student_id > 2000')"
      ],
      "metadata": {
        "colab": {
          "base_uri": "https://localhost:8080/"
        },
        "id": "eGCoE8EZ3hZr",
        "outputId": "a7ff970b-0cbd-4c5a-c1f6-02872a6a989c"
      },
      "execution_count": 72,
      "outputs": [
        {
          "output_type": "execute_result",
          "data": {
            "text/plain": [
              "<sqlite3.Cursor at 0x796fbeec0cc0>"
            ]
          },
          "metadata": {},
          "execution_count": 72
        }
      ]
    },
    {
      "cell_type": "code",
      "source": [
        "for i in c.execute(\"select * from student\"):\n",
        "    print(i)"
      ],
      "metadata": {
        "colab": {
          "base_uri": "https://localhost:8080/"
        },
        "id": "tVQBTduc3iRJ",
        "outputId": "2e542ee4-d339-4b53-fb97-8d9743602417"
      },
      "execution_count": 73,
      "outputs": [
        {
          "output_type": "stream",
          "name": "stdout",
          "text": [
            "(234, 'sudhashu', 'sudhanshu@ineuron.ai', 234)\n",
            "(235, 'sudhashu', 'sudhanshu@ineuron.ai', 234)\n",
            "(236, 'sudhashu', 'sudhanshu@ineuron.ai', 234)\n",
            "(237, 'sudhashu', 'sudhanshu@ineuron.ai', 234)\n",
            "(238, 'sudhashu', 'sudhanshu@ineuron.ai', 234)\n",
            "(239, 'sudhashu', 'sudhanshu@ineuron.ai', 234)\n"
          ]
        }
      ]
    },
    {
      "cell_type": "code",
      "source": [
        "data = c.execute(\"select * from student\")"
      ],
      "metadata": {
        "id": "ULpuje9X3jS3"
      },
      "execution_count": 74,
      "outputs": []
    },
    {
      "cell_type": "code",
      "source": [
        "data.fetchall()"
      ],
      "metadata": {
        "colab": {
          "base_uri": "https://localhost:8080/"
        },
        "id": "NIGQm7iu3lZm",
        "outputId": "70a2f2f3-76ee-4bab-c566-06d4cdfefa42"
      },
      "execution_count": 75,
      "outputs": [
        {
          "output_type": "execute_result",
          "data": {
            "text/plain": [
              "[(234, 'sudhashu', 'sudhanshu@ineuron.ai', 234),\n",
              " (235, 'sudhashu', 'sudhanshu@ineuron.ai', 234),\n",
              " (236, 'sudhashu', 'sudhanshu@ineuron.ai', 234),\n",
              " (237, 'sudhashu', 'sudhanshu@ineuron.ai', 234),\n",
              " (238, 'sudhashu', 'sudhanshu@ineuron.ai', 234),\n",
              " (239, 'sudhashu', 'sudhanshu@ineuron.ai', 234)]"
            ]
          },
          "metadata": {},
          "execution_count": 75
        }
      ]
    },
    {
      "cell_type": "code",
      "source": [
        "c.execute(\"update student set student_id = 1000 where student_id = 236\")"
      ],
      "metadata": {
        "colab": {
          "base_uri": "https://localhost:8080/"
        },
        "id": "iq2Y1XP43mHP",
        "outputId": "ab3600e4-7bde-49cc-a4c5-afb5796b9d3f"
      },
      "execution_count": 76,
      "outputs": [
        {
          "output_type": "execute_result",
          "data": {
            "text/plain": [
              "<sqlite3.Cursor at 0x796fbeec0cc0>"
            ]
          },
          "metadata": {},
          "execution_count": 76
        }
      ]
    },
    {
      "cell_type": "code",
      "source": [
        "data = c.execute(\"select * from student\")\n",
        "data.fetchall()"
      ],
      "metadata": {
        "colab": {
          "base_uri": "https://localhost:8080/"
        },
        "id": "E1iopr7-3noL",
        "outputId": "b456231d-d17a-4812-c2f3-897bcc625bb6"
      },
      "execution_count": 77,
      "outputs": [
        {
          "output_type": "execute_result",
          "data": {
            "text/plain": [
              "[(234, 'sudhashu', 'sudhanshu@ineuron.ai', 234),\n",
              " (235, 'sudhashu', 'sudhanshu@ineuron.ai', 234),\n",
              " (1000, 'sudhashu', 'sudhanshu@ineuron.ai', 234),\n",
              " (237, 'sudhashu', 'sudhanshu@ineuron.ai', 234),\n",
              " (238, 'sudhashu', 'sudhanshu@ineuron.ai', 234),\n",
              " (239, 'sudhashu', 'sudhanshu@ineuron.ai', 234)]"
            ]
          },
          "metadata": {},
          "execution_count": 77
        }
      ]
    },
    {
      "cell_type": "code",
      "source": [
        "db.close()"
      ],
      "metadata": {
        "id": "uvrqRxHT3opi"
      },
      "execution_count": 78,
      "outputs": []
    },
    {
      "cell_type": "code",
      "source": [],
      "metadata": {
        "id": "_ZYYm21N3qIL"
      },
      "execution_count": 78,
      "outputs": []
    }
  ]
}